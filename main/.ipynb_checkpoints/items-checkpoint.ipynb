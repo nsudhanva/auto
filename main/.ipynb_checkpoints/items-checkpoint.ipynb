{
 "cells": [
  {
   "cell_type": "markdown",
   "metadata": {},
   "source": [
    "# Analysis of Automobile Inventory Data\n",
    "\n",
    "## Copyright (c) 2018, Faststream Technologies\n",
    "## Author: Sudhanva Narayana"
   ]
  },
  {
   "cell_type": "code",
   "execution_count": 487,
   "metadata": {},
   "outputs": [],
   "source": [
    "import numpy as np\n",
    "import pandas as pd\n",
    "import matplotlib.pyplot as plt\n",
    "import os\n",
    "import calendar\n",
    "from sklearn.preprocessing import Imputer\n",
    "from sklearn.cross_validation import train_test_split\n",
    "from sklearn.linear_model import LinearRegression\n",
    "# from sklearn.metrics import confusion_matrix\n",
    "# from sklearn.metrics import classification_report"
   ]
  },
  {
   "cell_type": "markdown",
   "metadata": {},
   "source": [
    "### CURR and PARENT directory constants"
   ]
  },
  {
   "cell_type": "code",
   "execution_count": 488,
   "metadata": {
    "collapsed": true
   },
   "outputs": [],
   "source": [
    "CURR_DIR = os.path.dirname(os.path.abspath('__file__'))\n",
    "PARENT_DIR = os.path.abspath(os.path.join(CURR_DIR, os.pardir))"
   ]
  },
  {
   "cell_type": "markdown",
   "metadata": {},
   "source": [
    "### Import dataset ignoring headers"
   ]
  },
  {
   "cell_type": "code",
   "execution_count": 489,
   "metadata": {},
   "outputs": [],
   "source": [
    "df = pd.read_excel(PARENT_DIR + '\\\\assets\\\\data\\\\items_analysis.xlsx', sheet_name='Sheet1')"
   ]
  },
  {
   "cell_type": "markdown",
   "metadata": {},
   "source": [
    "### Dataset"
   ]
  },
  {
   "cell_type": "code",
   "execution_count": 490,
   "metadata": {},
   "outputs": [
    {
     "data": {
      "text/html": [
       "<div>\n",
       "<style scoped>\n",
       "    .dataframe tbody tr th:only-of-type {\n",
       "        vertical-align: middle;\n",
       "    }\n",
       "\n",
       "    .dataframe tbody tr th {\n",
       "        vertical-align: top;\n",
       "    }\n",
       "\n",
       "    .dataframe thead th {\n",
       "        text-align: right;\n",
       "    }\n",
       "</style>\n",
       "<table border=\"1\" class=\"dataframe\">\n",
       "  <thead>\n",
       "    <tr style=\"text-align: right;\">\n",
       "      <th></th>\n",
       "      <th>Item_Number</th>\n",
       "      <th>Make_Or_Buy_Flag</th>\n",
       "      <th>Minimum_Order_Quantity</th>\n",
       "      <th>Standard_Cost</th>\n",
       "      <th>Ordered_Quantity</th>\n",
       "      <th>Month</th>\n",
       "      <th>Request_Date</th>\n",
       "      <th>Cumulative LT</th>\n",
       "    </tr>\n",
       "  </thead>\n",
       "  <tbody>\n",
       "    <tr>\n",
       "      <th>0</th>\n",
       "      <td>066.01.374.1.37</td>\n",
       "      <td>Make</td>\n",
       "      <td>NaN</td>\n",
       "      <td>1027.19182</td>\n",
       "      <td>2</td>\n",
       "      <td>2015-08</td>\n",
       "      <td>2015-08-24 00:00:00</td>\n",
       "      <td>76.986458</td>\n",
       "    </tr>\n",
       "    <tr>\n",
       "      <th>1</th>\n",
       "      <td>066.322.002</td>\n",
       "      <td>Buy</td>\n",
       "      <td>5.0</td>\n",
       "      <td>893.80000</td>\n",
       "      <td>2</td>\n",
       "      <td>2015-01</td>\n",
       "      <td>2015-01-23 00:00:00</td>\n",
       "      <td>156.000000</td>\n",
       "    </tr>\n",
       "    <tr>\n",
       "      <th>2</th>\n",
       "      <td>066.322.002</td>\n",
       "      <td>Buy</td>\n",
       "      <td>5.0</td>\n",
       "      <td>893.80000</td>\n",
       "      <td>2</td>\n",
       "      <td>2015-01</td>\n",
       "      <td>2014-12-22 15:09:00</td>\n",
       "      <td>156.000000</td>\n",
       "    </tr>\n",
       "    <tr>\n",
       "      <th>3</th>\n",
       "      <td>066.322.002</td>\n",
       "      <td>Buy</td>\n",
       "      <td>5.0</td>\n",
       "      <td>893.80000</td>\n",
       "      <td>4</td>\n",
       "      <td>2015-09</td>\n",
       "      <td>2015-09-16 00:00:00</td>\n",
       "      <td>156.000000</td>\n",
       "    </tr>\n",
       "    <tr>\n",
       "      <th>4</th>\n",
       "      <td>066.322.002</td>\n",
       "      <td>Buy</td>\n",
       "      <td>5.0</td>\n",
       "      <td>893.80000</td>\n",
       "      <td>2</td>\n",
       "      <td>2015-02</td>\n",
       "      <td>2015-01-28 00:00:00</td>\n",
       "      <td>156.000000</td>\n",
       "    </tr>\n",
       "  </tbody>\n",
       "</table>\n",
       "</div>"
      ],
      "text/plain": [
       "       Item_Number Make_Or_Buy_Flag  Minimum_Order_Quantity  Standard_Cost  \\\n",
       "0  066.01.374.1.37             Make                     NaN     1027.19182   \n",
       "1      066.322.002              Buy                     5.0      893.80000   \n",
       "2      066.322.002              Buy                     5.0      893.80000   \n",
       "3      066.322.002              Buy                     5.0      893.80000   \n",
       "4      066.322.002              Buy                     5.0      893.80000   \n",
       "\n",
       "   Ordered_Quantity    Month        Request_Date  Cumulative LT  \n",
       "0                 2  2015-08 2015-08-24 00:00:00      76.986458  \n",
       "1                 2  2015-01 2015-01-23 00:00:00     156.000000  \n",
       "2                 2  2015-01 2014-12-22 15:09:00     156.000000  \n",
       "3                 4  2015-09 2015-09-16 00:00:00     156.000000  \n",
       "4                 2  2015-02 2015-01-28 00:00:00     156.000000  "
      ]
     },
     "execution_count": 490,
     "metadata": {},
     "output_type": "execute_result"
    }
   ],
   "source": [
    "df.head()"
   ]
  },
  {
   "cell_type": "code",
   "execution_count": 491,
   "metadata": {},
   "outputs": [
    {
     "data": {
      "text/plain": [
       "Index(['item_number', 'make_or_buy_flag', 'minimum_order_quantity',\n",
       "       'standard_cost', 'ordered_quantity', 'month', 'request_date',\n",
       "       'cumulative_lt'],\n",
       "      dtype='object')"
      ]
     },
     "execution_count": 491,
     "metadata": {},
     "output_type": "execute_result"
    }
   ],
   "source": [
    "# Convert uppercase to lowercase and replace empty spaces with underscore\n",
    "df.columns = [i.replace(\" \", \"_\").lower() for i in df.columns]\n",
    "df.columns"
   ]
  },
  {
   "cell_type": "code",
   "execution_count": 492,
   "metadata": {},
   "outputs": [],
   "source": [
    "# Convert 'month' and 'reqeust date' to datetime and remove time by normalization\n",
    "df['month'] = pd.to_datetime(df['month'])\n",
    "df['month'] = df['month'].dt.month.apply(lambda x: calendar.month_abbr[x])\n",
    "df['request_date'] = (pd.to_datetime(df['request_date'])).dt.normalize()\n",
    "# df['date'] = df['request_date'].dt.day\n",
    "df['year'] = df['request_date'].dt.year"
   ]
  },
  {
   "cell_type": "code",
   "execution_count": 506,
   "metadata": {},
   "outputs": [],
   "source": [
    "# Create 'Buy' and 'Make' dataframe and remove 'make_or_buy_flag'\n",
    "df_buy = df[df['make_or_buy_flag'] == 'Buy'].drop(['make_or_buy_flag', 'minimum_order_quantity', 'standard_cost', 'cumulative_lt'], axis=1)\n",
    "df_buy = df_buy.fillna(df_buy.mean().astype(int))\n",
    "\n",
    "df_make = df[df['make_or_buy_flag'] == 'Make'].drop(['make_or_buy_flag', 'minimum_order_quantity'], axis=1)\n",
    "df_make = df_make.fillna(df_make.mean().astype(int))"
   ]
  },
  {
   "cell_type": "code",
   "execution_count": 513,
   "metadata": {},
   "outputs": [],
   "source": [
    "# Grouping by Item, Year, Month\n",
    "df_buy_group = round(df_buy.groupby(['item_number', 'year', 'month']).mean().astype(int))"
   ]
  },
  {
   "cell_type": "code",
   "execution_count": 564,
   "metadata": {},
   "outputs": [
    {
     "name": "stdout",
     "output_type": "stream",
     "text": [
      "Index(['066.322.002', '066.322.006', '066.385.001', '066.563.002',\n",
      "       '066.565.001', '066.565.005', '066.570.002', '066.570.003',\n",
      "       '066.577.001', '066.577.003',\n",
      "       ...\n",
      "       '942.900.117', '942.900.118', '942.900.120', '942.900.121',\n",
      "       '942.900.122', '942.900.127', '942.900.160', '942.900.166',\n",
      "       '942.900.176', '942.900.177'],\n",
      "      dtype='object', name='item_number', length=102)\n",
      "Int64Index([2014, 2015, 2015, 2015, 2015, 2015, 2016, 2016, 2016, 2016,\n",
      "            ...\n",
      "            2017, 2017, 2017, 2016, 2017, 2017, 2017, 2017, 2017, 2017],\n",
      "           dtype='int64', name='year', length=411)\n"
     ]
    }
   ],
   "source": [
    "item = df_buy_group.index.levels[0]\n",
    "print(df_buy_group.index.get_level_values('item_number').unique())\n",
    "print(df_buy_group.index.get_level_values('year'))"
   ]
  },
  {
   "cell_type": "code",
   "execution_count": null,
   "metadata": {
    "collapsed": true
   },
   "outputs": [],
   "source": [
    "# Importing the dataset\n",
    "X = df_buy.iloc[:, 2].values\n",
    "y = df_buy.iloc[:, 3].values"
   ]
  },
  {
   "cell_type": "code",
   "execution_count": null,
   "metadata": {},
   "outputs": [],
   "source": [
    "# Splitting the dataset into the Training set and Test set\n",
    "X_train, X_test, y_train, y_test = train_test_split(X, y, test_size=1/3, random_state=0)\n",
    "X_train, X_test, y_train, y_test = X_train.reshape(-1, 1), X_test.reshape(-1, 1), y_train.reshape(-1, 1), y_test.reshape(-1, 1)"
   ]
  },
  {
   "cell_type": "code",
   "execution_count": null,
   "metadata": {},
   "outputs": [],
   "source": [
    "# Fitting Simple Linear Regression to the Training set\n",
    "regressor = LinearRegression()\n",
    "regressor.fit(X_train, y_train)"
   ]
  },
  {
   "cell_type": "code",
   "execution_count": null,
   "metadata": {
    "collapsed": true
   },
   "outputs": [],
   "source": [
    "# Predicting the Test set results\n",
    "y_pred = regressor.predict(X_test)"
   ]
  },
  {
   "cell_type": "code",
   "execution_count": null,
   "metadata": {},
   "outputs": [],
   "source": [
    "# Visualising the Training set results\n",
    "plt.scatter(X_train, y_train, color='red')\n",
    "plt.plot(X_train, regressor.predict(X_train), color='blue')\n",
    "plt.title('Standard Cost vs Order Quantity (Training set)')\n",
    "plt.xlabel('Order Quantity')\n",
    "plt.ylabel('Standard Cost')\n",
    "plt.show()"
   ]
  },
  {
   "cell_type": "code",
   "execution_count": null,
   "metadata": {},
   "outputs": [],
   "source": [
    "# Visualising the Training set results\n",
    "plt.scatter(X_test, y_test, color='red')\n",
    "plt.plot(X_train, regressor.predict(X_train), color='blue')\n",
    "plt.title('Standard Cost vs Order Quantity (Test set)')\n",
    "plt.xlabel('Order Quantity')\n",
    "plt.ylabel('Standard Cost')\n",
    "plt.show()"
   ]
  }
 ],
 "metadata": {
  "kernelspec": {
   "display_name": "Python 3",
   "language": "python",
   "name": "python3"
  },
  "language_info": {
   "codemirror_mode": {
    "name": "ipython",
    "version": 3
   },
   "file_extension": ".py",
   "mimetype": "text/x-python",
   "name": "python",
   "nbconvert_exporter": "python",
   "pygments_lexer": "ipython3",
   "version": "3.6.3"
  }
 },
 "nbformat": 4,
 "nbformat_minor": 2
}
