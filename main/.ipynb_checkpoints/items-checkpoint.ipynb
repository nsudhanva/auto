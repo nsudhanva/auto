{
 "cells": [
  {
   "cell_type": "markdown",
   "metadata": {},
   "source": [
    "# Analysis of Automobile Inventory Data\n",
    "\n",
    "## Copyright (c) 2018, Faststream Technologies\n",
    "## Author: Sudhanva Narayana"
   ]
  },
  {
   "cell_type": "code",
   "execution_count": 57,
   "metadata": {
    "collapsed": true
   },
   "outputs": [],
   "source": [
    "import numpy as np\n",
    "import pandas as pd\n",
    "import matplotlib.pyplot as plt\n",
    "import os\n",
    "# from sklearn.tree import DecisionTreeClassifier\n",
    "# from sklearn.model_selection import train_test_split\n",
    "# from sklearn.preprocessing import StandardScaler\n",
    "# from sklearn.metrics import confusion_matrix\n",
    "# from sklearn.metrics import classification_report"
   ]
  },
  {
   "cell_type": "markdown",
   "metadata": {},
   "source": [
    "### CURR and PARENT directory constants"
   ]
  },
  {
   "cell_type": "code",
   "execution_count": 58,
   "metadata": {
    "collapsed": true
   },
   "outputs": [],
   "source": [
    "CURR_DIR = os.path.dirname(os.path.abspath('__file__'))\n",
    "PARENT_DIR = os.path.abspath(os.path.join(CURR_DIR, os.pardir))"
   ]
  },
  {
   "cell_type": "markdown",
   "metadata": {},
   "source": [
    "### Import dataset ignoring headers"
   ]
  },
  {
   "cell_type": "code",
   "execution_count": 59,
   "metadata": {},
   "outputs": [],
   "source": [
    "df = pd.read_excel(PARENT_DIR + '\\\\assets\\\\data\\\\items_analysis.xlsx', sheet_name='Sheet1')"
   ]
  },
  {
   "cell_type": "markdown",
   "metadata": {},
   "source": [
    "### Dataset"
   ]
  },
  {
   "cell_type": "code",
   "execution_count": 60,
   "metadata": {},
   "outputs": [
    {
     "data": {
      "text/html": [
       "<div>\n",
       "<style scoped>\n",
       "    .dataframe tbody tr th:only-of-type {\n",
       "        vertical-align: middle;\n",
       "    }\n",
       "\n",
       "    .dataframe tbody tr th {\n",
       "        vertical-align: top;\n",
       "    }\n",
       "\n",
       "    .dataframe thead th {\n",
       "        text-align: right;\n",
       "    }\n",
       "</style>\n",
       "<table border=\"1\" class=\"dataframe\">\n",
       "  <thead>\n",
       "    <tr style=\"text-align: right;\">\n",
       "      <th></th>\n",
       "      <th>Item_Number</th>\n",
       "      <th>Make_Or_Buy_Flag</th>\n",
       "      <th>Minimum_Order_Quantity</th>\n",
       "      <th>Standard_Cost</th>\n",
       "      <th>Ordered_Quantity</th>\n",
       "      <th>Month</th>\n",
       "      <th>Request_Date</th>\n",
       "      <th>Cumulative LT</th>\n",
       "    </tr>\n",
       "  </thead>\n",
       "  <tbody>\n",
       "    <tr>\n",
       "      <th>0</th>\n",
       "      <td>066.01.374.1.37</td>\n",
       "      <td>Make</td>\n",
       "      <td>NaN</td>\n",
       "      <td>1027.19182</td>\n",
       "      <td>2</td>\n",
       "      <td>2015-08</td>\n",
       "      <td>2015-08-24 00:00:00</td>\n",
       "      <td>76.986458</td>\n",
       "    </tr>\n",
       "    <tr>\n",
       "      <th>1</th>\n",
       "      <td>066.322.002</td>\n",
       "      <td>Buy</td>\n",
       "      <td>5.0</td>\n",
       "      <td>893.80000</td>\n",
       "      <td>2</td>\n",
       "      <td>2015-01</td>\n",
       "      <td>2015-01-23 00:00:00</td>\n",
       "      <td>156.000000</td>\n",
       "    </tr>\n",
       "    <tr>\n",
       "      <th>2</th>\n",
       "      <td>066.322.002</td>\n",
       "      <td>Buy</td>\n",
       "      <td>5.0</td>\n",
       "      <td>893.80000</td>\n",
       "      <td>2</td>\n",
       "      <td>2015-01</td>\n",
       "      <td>2014-12-22 15:09:00</td>\n",
       "      <td>156.000000</td>\n",
       "    </tr>\n",
       "    <tr>\n",
       "      <th>3</th>\n",
       "      <td>066.322.002</td>\n",
       "      <td>Buy</td>\n",
       "      <td>5.0</td>\n",
       "      <td>893.80000</td>\n",
       "      <td>4</td>\n",
       "      <td>2015-09</td>\n",
       "      <td>2015-09-16 00:00:00</td>\n",
       "      <td>156.000000</td>\n",
       "    </tr>\n",
       "    <tr>\n",
       "      <th>4</th>\n",
       "      <td>066.322.002</td>\n",
       "      <td>Buy</td>\n",
       "      <td>5.0</td>\n",
       "      <td>893.80000</td>\n",
       "      <td>2</td>\n",
       "      <td>2015-02</td>\n",
       "      <td>2015-01-28 00:00:00</td>\n",
       "      <td>156.000000</td>\n",
       "    </tr>\n",
       "  </tbody>\n",
       "</table>\n",
       "</div>"
      ],
      "text/plain": [
       "       Item_Number Make_Or_Buy_Flag  Minimum_Order_Quantity  Standard_Cost  \\\n",
       "0  066.01.374.1.37             Make                     NaN     1027.19182   \n",
       "1      066.322.002              Buy                     5.0      893.80000   \n",
       "2      066.322.002              Buy                     5.0      893.80000   \n",
       "3      066.322.002              Buy                     5.0      893.80000   \n",
       "4      066.322.002              Buy                     5.0      893.80000   \n",
       "\n",
       "   Ordered_Quantity    Month        Request_Date  Cumulative LT  \n",
       "0                 2  2015-08 2015-08-24 00:00:00      76.986458  \n",
       "1                 2  2015-01 2015-01-23 00:00:00     156.000000  \n",
       "2                 2  2015-01 2014-12-22 15:09:00     156.000000  \n",
       "3                 4  2015-09 2015-09-16 00:00:00     156.000000  \n",
       "4                 2  2015-02 2015-01-28 00:00:00     156.000000  "
      ]
     },
     "execution_count": 60,
     "metadata": {},
     "output_type": "execute_result"
    }
   ],
   "source": [
    "df.head()"
   ]
  },
  {
   "cell_type": "code",
   "execution_count": 61,
   "metadata": {},
   "outputs": [
    {
     "data": {
      "text/plain": [
       "Index(['item_number', 'make_or_buy_flag', 'minimum_order_quantity',\n",
       "       'standard_cost', 'ordered_quantity', 'month', 'request_date',\n",
       "       'cumulative_lt'],\n",
       "      dtype='object')"
      ]
     },
     "execution_count": 61,
     "metadata": {},
     "output_type": "execute_result"
    }
   ],
   "source": [
    "# Convert uppercase to lowercase and replace empty spaces with underscore\n",
    "df.columns = [i.replace(\" \", \"_\").lower() for i in df.columns]\n",
    "df.columns"
   ]
  },
  {
   "cell_type": "code",
   "execution_count": 62,
   "metadata": {},
   "outputs": [],
   "source": [
    "# Convert 'month' and 'reqeust date' to datetime and remove time by normalization\n",
    "df['month'] = pd.to_datetime(df['month'])\n",
    "df['request_date'] = (pd.to_datetime(df['request_date'])).dt.normalize()"
   ]
  },
  {
   "cell_type": "code",
   "execution_count": 63,
   "metadata": {},
   "outputs": [],
   "source": [
    "df_buy = df[df['make_or_buy_flag'] == 'Buy'].drop('make_or_buy_flag', 1)\n",
    "df_make = df[df['make_or_buy_flag'] == 'Make'].drop('make_or_buy_flag', 1)"
   ]
  }
 ],
 "metadata": {
  "kernelspec": {
   "display_name": "Python 3",
   "language": "python",
   "name": "python3"
  },
  "language_info": {
   "codemirror_mode": {
    "name": "ipython",
    "version": 3
   },
   "file_extension": ".py",
   "mimetype": "text/x-python",
   "name": "python",
   "nbconvert_exporter": "python",
   "pygments_lexer": "ipython3",
   "version": "3.6.3"
  }
 },
 "nbformat": 4,
 "nbformat_minor": 2
}
